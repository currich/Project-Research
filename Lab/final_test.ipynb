{
 "cells": [
  {
   "cell_type": "code",
   "execution_count": 1,
   "metadata": {},
   "outputs": [
    {
     "name": "stdout",
     "output_type": "stream",
     "text": [
      "mps:0 사용 가능합니다\n"
     ]
    }
   ],
   "source": [
    "import torch\n",
    "import torch.nn as nn\n",
    "import torch.optim as optim\n",
    "from torch.utils.data import TensorDataset # 텐서데이터셋\n",
    "from torch.utils.data import DataLoader # 데이터로더\n",
    "\n",
    "import pandas_datareader.data as pd_web\n",
    "from datetime import datetime\n",
    "import yfinance as yf\n",
    "yf.pdr_override()  # update pandas datareader (yahoo finance api)\n",
    "import pandas as pd\n",
    "import random\n",
    "import numpy as np\n",
    "import seaborn as sns\n",
    "import matplotlib.pyplot as plt\n",
    "import mplcyberpunk\n",
    "plt.style.use('cyberpunk')\n",
    "from sklearn.preprocessing import MinMaxScaler, StandardScaler\n",
    "from copy import deepcopy as dc\n",
    "import time\n",
    "\n",
    "device = torch.device('mps:0' if torch.backends.mps.is_available() else 'cpu')\n",
    "print(f\"{device} 사용 가능합니다\")"
   ]
  },
  {
   "cell_type": "code",
   "execution_count": 3,
   "metadata": {},
   "outputs": [],
   "source": [
    "df_temp= pd.read_csv('./NVDA_110721_Final_1_fdr.csv', index_col=['Date'])\n",
    "\n",
    "df = dc(df_temp[['Close']])\n"
   ]
  },
  {
   "cell_type": "code",
   "execution_count": 4,
   "metadata": {},
   "outputs": [
    {
     "name": "stdout",
     "output_type": "stream",
     "text": [
      "(2012, 1) (504, 1)\n"
     ]
    }
   ],
   "source": [
    "training_data_len = int(len(df) * .8)\n",
    "training_data_len\n",
    " \n",
    "#Splitting the dataset\n",
    "train_data = df[:training_data_len].iloc[:,:1]\n",
    "test_data = df[training_data_len:].iloc[:,:1]\n",
    "print(train_data.shape, test_data.shape)"
   ]
  },
  {
   "cell_type": "code",
   "execution_count": 5,
   "metadata": {},
   "outputs": [],
   "source": [
    "scaler = MinMaxScaler()\n",
    "\n",
    "scaler.fit(train_data)\n",
    "scaled_train = scaler.transform(train_data)\n",
    "scaled_test = scaler.transform(test_data)"
   ]
  },
  {
   "cell_type": "code",
   "execution_count": 7,
   "metadata": {},
   "outputs": [
    {
     "data": {
      "text/plain": [
       "(torch.Size([1962, 50, 1]), torch.Size([1962, 50, 1]))"
      ]
     },
     "execution_count": 7,
     "metadata": {},
     "output_type": "execute_result"
    }
   ],
   "source": [
    "sequence_length = 50\n",
    "X_train, y_train = [], []\n",
    "for i in range(len(scaled_train) - sequence_length):\n",
    "    X_train.append(scaled_train[i:i+sequence_length])\n",
    "    y_train.append(scaled_train[i+1:i+sequence_length+1])\n",
    "X_train, y_train = np.array(X_train), np.array(y_train)\n",
    " \n",
    "# Convert data to PyTorch tensors\n",
    "X_train = torch.tensor(X_train, dtype=torch.float32)\n",
    "y_train = torch.tensor(y_train, dtype=torch.float32)\n",
    "X_train.shape,y_train.shape"
   ]
  },
  {
   "cell_type": "code",
   "execution_count": 8,
   "metadata": {},
   "outputs": [
    {
     "data": {
      "text/plain": [
       "(torch.Size([474, 30, 1]), torch.Size([474, 30, 1]))"
      ]
     },
     "execution_count": 8,
     "metadata": {},
     "output_type": "execute_result"
    }
   ],
   "source": [
    "sequence_length = 30  # Number of time steps to look back\n",
    "X_test, y_test = [], []\n",
    "for i in range(len(scaled_test) - sequence_length):\n",
    "    X_test.append(scaled_test[i:i+sequence_length])\n",
    "    y_test.append(scaled_test[i+1:i+sequence_length+1])\n",
    "X_test, y_test = np.array(X_test), np.array(y_test)\n",
    " \n",
    "# Convert data to PyTorch tensors\n",
    "X_test = torch.tensor(X_test, dtype=torch.float32)\n",
    "y_test = torch.tensor(y_test, dtype=torch.float32)\n",
    "X_test.shape, y_test.shape"
   ]
  },
  {
   "cell_type": "code",
   "execution_count": 9,
   "metadata": {},
   "outputs": [],
   "source": [
    "class LSTMModel(nn.Module):\n",
    "      # input_size : number of features in input at each time step\n",
    "      # hidden_size : Number of LSTM units \n",
    "      # num_layers : number of LSTM layers \n",
    "    def __init__(self, input_size, hidden_size, num_layers): \n",
    "        super(LSTMModel, self).__init__() #initializes the parent class nn.Module\n",
    "        self.lstm = nn.LSTM(input_size, hidden_size, num_layers, batch_first=True)\n",
    "        self.linear = nn.Linear(hidden_size, 1)\n",
    " \n",
    "    def forward(self, x): # defines forward pass of the neural network\n",
    "        out, _ = self.lstm(x)\n",
    "        out = self.linear(out)\n",
    "        return out"
   ]
  },
  {
   "cell_type": "code",
   "execution_count": 10,
   "metadata": {},
   "outputs": [
    {
     "name": "stdout",
     "output_type": "stream",
     "text": [
      "LSTMModel(\n",
      "  (lstm): LSTM(1, 64, num_layers=2, batch_first=True)\n",
      "  (linear): Linear(in_features=64, out_features=1, bias=True)\n",
      ")\n"
     ]
    }
   ],
   "source": [
    "input_size = 1\n",
    "num_layers = 2\n",
    "hidden_size = 64\n",
    "output_size = 1\n",
    " \n",
    "# Define the model, loss function, and optimizer\n",
    "model = LSTMModel(input_size, hidden_size, num_layers).to(device)\n",
    " \n",
    "loss_fn = torch.nn.MSELoss(reduction='mean')\n",
    " \n",
    "optimizer = torch.optim.Adam(model.parameters(), lr=1e-3)\n",
    "print(model)"
   ]
  },
  {
   "cell_type": "code",
   "execution_count": 11,
   "metadata": {},
   "outputs": [],
   "source": [
    "batch_size = 16\n",
    "# Create DataLoader for batch training\n",
    "train_dataset = torch.utils.data.TensorDataset(X_train, y_train)\n",
    "train_loader = torch.utils.data.DataLoader(train_dataset, batch_size=batch_size, shuffle=True)\n",
    " \n",
    "# Create DataLoader for batch training\n",
    "test_dataset = torch.utils.data.TensorDataset(X_test, y_test)\n",
    "test_loader = torch.utils.data.DataLoader(test_dataset, batch_size=batch_size, shuffle=False)"
   ]
  },
  {
   "cell_type": "code",
   "execution_count": 12,
   "metadata": {},
   "outputs": [
    {
     "name": "stdout",
     "output_type": "stream",
     "text": [
      "Epoch [10/50] - Training Loss: 0.0001, Test Loss: 0.0092\n",
      "Epoch [20/50] - Training Loss: 0.0001, Test Loss: 0.0159\n",
      "Epoch [30/50] - Training Loss: 0.0001, Test Loss: 0.0254\n",
      "Epoch [40/50] - Training Loss: 0.0001, Test Loss: 0.0128\n",
      "Epoch [50/50] - Training Loss: 0.0001, Test Loss: 0.0170\n"
     ]
    }
   ],
   "source": [
    "num_epochs = 50\n",
    "train_hist =[]\n",
    "test_hist =[]\n",
    "# Training loop\n",
    "for epoch in range(num_epochs):\n",
    "    total_loss = 0.0\n",
    " \n",
    "    # Training\n",
    "    model.train()\n",
    "    for batch_X, batch_y in train_loader:\n",
    "        batch_X, batch_y = batch_X.to(device), batch_y.to(device)\n",
    "        predictions = model(batch_X)\n",
    "        loss = loss_fn(predictions, batch_y)\n",
    " \n",
    "        optimizer.zero_grad()\n",
    "        loss.backward()\n",
    "        optimizer.step()\n",
    " \n",
    "        total_loss += loss.item()\n",
    " \n",
    "    # Calculate average training loss and accuracy\n",
    "    average_loss = total_loss / len(train_loader)\n",
    "    train_hist.append(average_loss)\n",
    " \n",
    "    # Validation on test data\n",
    "    model.eval()\n",
    "    with torch.no_grad():\n",
    "        total_test_loss = 0.0\n",
    " \n",
    "        for batch_X_test, batch_y_test in test_loader:\n",
    "            batch_X_test, batch_y_test = batch_X_test.to(device), batch_y_test.to(device)\n",
    "            predictions_test = model(batch_X_test)\n",
    "            test_loss = loss_fn(predictions_test, batch_y_test)\n",
    " \n",
    "            total_test_loss += test_loss.item()\n",
    " \n",
    "        # Calculate average test loss and accuracy\n",
    "        average_test_loss = total_test_loss / len(test_loader)\n",
    "        test_hist.append(average_test_loss)\n",
    "    if (epoch+1)%10==0:\n",
    "        print(f'Epoch [{epoch+1}/{num_epochs}] - Training Loss: {average_loss:.4f}, Test Loss: {average_test_loss:.4f}')"
   ]
  },
  {
   "cell_type": "code",
   "execution_count": 13,
   "metadata": {},
   "outputs": [
    {
     "data": {
      "image/png": "[encoded data removed]",
      "text/plain": [
       "<Figure size 640x480 with 1 Axes>"
      ]
     },
     "metadata": {},
     "output_type": "display_data"
    }
   ],
   "source": [
    "x = np.linspace(1,num_epochs,num_epochs)\n",
    "plt.plot(x,train_hist,scalex=True, label=\"Training loss\")\n",
    "plt.plot(x, test_hist, label=\"Test loss\")\n",
    "plt.legend()\n",
    "plt.show()"
   ]
  },
  {
   "cell_type": "code",
   "execution_count": 17,
   "metadata": {},
   "outputs": [
    {
     "name": "stdout",
     "output_type": "stream",
     "text": [
      "(30,)\n"
     ]
    },
    {
     "name": "stderr",
     "output_type": "stream",
     "text": [
      "/var/folders/wq/w6lr7zz54p5dj17rvn0ldl400000gn/T/ipykernel_15030/3823775127.py:26: DeprecationWarning: Conversion of an array with ndim > 0 to a scalar is deprecated, and will error in future. Ensure you extract a single element from your array before performing this operation. (Deprecated NumPy 1.25.)\n",
      "  historical_data[-1] = predicted_value\n"
     ]
    },
    {
     "ename": "TypeError",
     "evalue": "can only concatenate str (not \"DateOffset\") to str",
     "output_type": "error",
     "traceback": [
      "\u001b[0;31m---------------------------------------------------------------------------\u001b[0m",
      "\u001b[0;31mTypeError\u001b[0m                                 Traceback (most recent call last)",
      "Cell \u001b[0;32mIn[17], line 33\u001b[0m\n\u001b[1;32m     30\u001b[0m last_date \u001b[38;5;241m=\u001b[39m test_data\u001b[38;5;241m.\u001b[39mindex[\u001b[38;5;241m-\u001b[39m\u001b[38;5;241m1\u001b[39m]\n\u001b[1;32m     32\u001b[0m \u001b[38;5;66;03m# Generate the next 30 dates\u001b[39;00m\n\u001b[0;32m---> 33\u001b[0m future_dates \u001b[38;5;241m=\u001b[39m pd\u001b[38;5;241m.\u001b[39mdate_range(start\u001b[38;5;241m=\u001b[39m\u001b[43mlast_date\u001b[49m\u001b[43m \u001b[49m\u001b[38;5;241;43m+\u001b[39;49m\u001b[43m \u001b[49m\u001b[43mpd\u001b[49m\u001b[38;5;241;43m.\u001b[39;49m\u001b[43mDateOffset\u001b[49m\u001b[43m(\u001b[49m\u001b[38;5;241;43m1\u001b[39;49m\u001b[43m)\u001b[49m, periods\u001b[38;5;241m=\u001b[39m\u001b[38;5;241m1\u001b[39m)\n\u001b[1;32m     35\u001b[0m \u001b[38;5;66;03m# Concatenate the original index with the future dates\u001b[39;00m\n\u001b[1;32m     36\u001b[0m combined_index \u001b[38;5;241m=\u001b[39m test_data\u001b[38;5;241m.\u001b[39mindex\u001b[38;5;241m.\u001b[39mappend(future_dates)\n",
      "\u001b[0;31mTypeError\u001b[0m: can only concatenate str (not \"DateOffset\") to str"
     ]
    }
   ],
   "source": [
    "num_forecast_steps = 1\n",
    " \n",
    "# Convert to NumPy and remove singleton dimensions\n",
    "sequence_to_plot = X_test.squeeze().cpu().numpy()\n",
    " \n",
    "# Use the last 30 data points as the starting point\n",
    "historical_data = sequence_to_plot[-1]\n",
    "print(historical_data.shape)\n",
    " \n",
    "# Initialize a list to store the forecasted values\n",
    "forecasted_values = []\n",
    " \n",
    "# Use the trained model to forecast future values\n",
    "with torch.no_grad():\n",
    "    for _ in range(num_forecast_steps*2):\n",
    "        # Prepare the historical_data tensor\n",
    "        historical_data_tensor = torch.as_tensor(historical_data).view(1, -1, 1).float().to(device)\n",
    "        # Use the model to predict the next value\n",
    "        predicted_value = model(historical_data_tensor).cpu().numpy()[0, 0]\n",
    " \n",
    "        # Append the predicted value to the forecasted_values list\n",
    "        forecasted_values.append(predicted_value[0])\n",
    " \n",
    "        # Update the historical_data sequence by removing the oldest value and adding the predicted value\n",
    "        historical_data = np.roll(historical_data, shift=-1)\n",
    "        historical_data[-1] = predicted_value\n",
    " \n",
    "         \n",
    "# Generate futute dates\n",
    "last_date = test_data.index[-1]\n",
    " \n",
    "# Generate the next 30 dates\n",
    "future_dates = pd.date_range(start=last_date + pd.DateOffset(1), periods=1)\n",
    " \n",
    "# Concatenate the original index with the future dates\n",
    "combined_index = test_data.index.append(future_dates)"
   ]
  },
  {
   "cell_type": "code",
   "execution_count": null,
   "metadata": {},
   "outputs": [],
   "source": []
  }
 ],
 "metadata": {
  "kernelspec": {
   "display_name": "Python 3",
   "language": "python",
   "name": "python3"
  },
  "language_info": {
   "codemirror_mode": {
    "name": "ipython",
    "version": 3
   },
   "file_extension": ".py",
   "mimetype": "text/x-python",
   "name": "python",
   "nbconvert_exporter": "python",
   "pygments_lexer": "ipython3",
   "version": "3.11.6"
  }
 },
 "nbformat": 4,
 "nbformat_minor": 2
}
