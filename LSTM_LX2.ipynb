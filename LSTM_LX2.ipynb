{
 "cells": [
  {
   "cell_type": "code",
   "execution_count": 35,
   "metadata": {},
   "outputs": [],
   "source": [
    "import torch \n",
    "import torch.nn as nn\n",
    "import torch.nn.functional as F\n",
    "from torch.optim import Adam\n",
    "from torch.utils.data import Dataset, DataLoader\n",
    "\n",
    "import lightning as L\n",
    "\n",
    "import pandas as pd\n",
    "import numpy as np\n",
    "\n",
    "from sklearn.preprocessing import StandardScaler, MinMaxScaler"
   ]
  },
  {
   "cell_type": "code",
   "execution_count": 36,
   "metadata": {},
   "outputs": [
    {
     "name": "stdout",
     "output_type": "stream",
     "text": [
      "mps:0 사용 가능합니다\n"
     ]
    },
    {
     "data": {
      "text/plain": [
       "array([  3.675   ,   3.75    ,   3.69    , ..., 181.610001, 187.797501,\n",
       "       186.119995])"
      ]
     },
     "execution_count": 36,
     "metadata": {},
     "output_type": "execute_result"
    }
   ],
   "source": [
    "device = torch.device('mps:0' if torch.backends.mps.is_available() else 'cpu')\n",
    "print(f\"{device} 사용 가능합니다\")\n",
    "\n",
    "data = pd.read_csv('./NVDA_110721_Final_1_fdr.csv', index_col='Date', usecols=['Close', 'Date'])\n",
    "data.Close.to_numpy()"
   ]
  },
  {
   "cell_type": "code",
   "execution_count": 40,
   "metadata": {},
   "outputs": [],
   "source": [
    "class LSTMbyHand(nn.Module):\n",
    "\n",
    "    def __init__(self):\n",
    "        super().__init__()\n",
    "\n",
    "        mean = torch.tensor(0.0)\n",
    "        std = torch.tensor(1.0)\n",
    "\n",
    "        self.wlr1 = nn.Parameter(torch.normal(mean=mean, std=std), requires_grad=True)\n",
    "        self.wlr2 = nn.Parameter(torch.normal(mean=mean, std=std), requires_grad=True)\n",
    "        self.blr1 = nn.Parameter(torch.tensor(0.), requires_grad=True)\n",
    "        \n",
    "        self.wpr1 = nn.Parameter(torch.normal(mean=mean, std=std), requires_grad=True)\n",
    "        self.wpr2 = nn.Parameter(torch.normal(mean=mean, std=std), requires_grad=True)\n",
    "        self.bpr1 = nn.Parameter(torch.tensor(0.), requires_grad=True)\n",
    "\n",
    "        self.wp1 = nn.Parameter(torch.normal(mean=mean, std=std), requires_grad=True)\n",
    "        self.wp2 = nn.Parameter(torch.normal(mean=mean, std=std), requires_grad=True)\n",
    "        self.bp1 = nn.Parameter(torch.tensor(0.), requires_grad=True)\n",
    "        \n",
    "        self.wo1 = nn.Parameter(torch.normal(mean=mean, std=std), requires_grad=True)\n",
    "        self.wo2 = nn.Parameter(torch.normal(mean=mean, std=std), requires_grad=True)\n",
    "        self.bo1 = nn.Parameter(torch.tensor(0.), requires_grad=True)\n",
    "\n",
    "        self.final_bias = nn.Parameter(torch.tensor(1.), requires_grad=True)\n",
    "        \n",
    "    def lstm_unit(self, input_value, long_memory, short_memory):\n",
    "        long_remember_percent = torch.sigmoid((short_memory * self.wlr1) + \n",
    "                                              (input_value * self.wlr2) +\n",
    "                                              self.blr1)\n",
    "        \n",
    "        potential_remember_percent = torch.sigmoid((short_memory * self.wpr1) + \n",
    "                                              (input_value * self.wpr2) +\n",
    "                                              self.bpr1)\n",
    "        \n",
    "        potential_memory = torch.tanh((short_memory * self.wp1) +\n",
    "                                      (input_value * self.wp2) +\n",
    "                                      self.bp1)\n",
    "        \n",
    "        updated_long_memory = ((long_memory * long_remember_percent) +\n",
    "                               (potential_remember_percent * potential_memory))\n",
    "\n",
    "        output_percent = torch.sigmoid((short_memory * self.wo1 +\n",
    "                                        (input_value * self.wo2 +\n",
    "                                         self.bo1)))\n",
    "        \n",
    "        updated_short_memory = updated_long_memory * output_percent + self.final_bias\n",
    "\n",
    "        return ([updated_long_memory, updated_short_memory])\n",
    "\n",
    "    def forward(self, input):\n",
    "        long_memory = 0\n",
    "        short_memory = 0\n",
    "        \n",
    "        for i in range(len(data) - 1):\n",
    "            temp_day = data.Close.to_numpy()[i]\n",
    "            long_memory, short_memory = self.lstm_unit(temp_day, long_memory, short_memory)\n",
    "\n",
    "        print(short_memory)\n",
    "        return short_memory\n",
    "    \n",
    "    def configure_optimizers(self):\n",
    "        return Adam(self.parameters())\n",
    "    \n",
    "    def training_step(self, batch, batch_id):\n",
    "        input, label = batch\n",
    "        output = self.forward(input[0])\n",
    "        loss = (output - label) ** 2\n",
    "\n",
    "        self.log(\"train_loss\", loss)\n",
    "        self.log(\"out\", output)\n",
    "\n",
    "        return loss"
   ]
  },
  {
   "cell_type": "code",
   "execution_count": 38,
   "metadata": {},
   "outputs": [],
   "source": [
    "ms_x, ms_y = MinMaxScaler(), MinMaxScaler()\n",
    "ss = StandardScaler()\n",
    "\n",
    "split = len(data) - 1\n",
    "X_train = data[:split]\n",
    "X_test = data[split:]\n",
    "y_train = data[['Close']][:split]\n",
    "y_test = data[['Close']][split:]\n",
    "\n",
    "ms_x.fit(X_train)\n",
    "X_train = ms_x.transform(X_train)\n",
    "X_test = ms_x.transform(X_test)\n",
    "\n",
    "ms_y.fit(y_train)\n",
    "y_train = ms_y.transform(y_train)\n",
    "y_test = ms_y.transform(y_test)"
   ]
  },
  {
   "cell_type": "code",
   "execution_count": 41,
   "metadata": {},
   "outputs": [
    {
     "name": "stdout",
     "output_type": "stream",
     "text": [
      "tensor(2., grad_fn=<AddBackward0>)\n",
      "Observed = 0, Predicted= tensor(2.)\n"
     ]
    }
   ],
   "source": [
    "model = LSTMbyHand()\n",
    "print(\"Observed = 0, Predicted=\", model(torch.tensor(X_train)).detach())"
   ]
  },
  {
   "cell_type": "code",
   "execution_count": null,
   "metadata": {},
   "outputs": [],
   "source": []
  },
  {
   "cell_type": "code",
   "execution_count": null,
   "metadata": {},
   "outputs": [],
   "source": []
  }
 ],
 "metadata": {
  "kernelspec": {
   "display_name": "madelion",
   "language": "python",
   "name": "python3"
  },
  "language_info": {
   "codemirror_mode": {
    "name": "ipython",
    "version": 3
   },
   "file_extension": ".py",
   "mimetype": "text/x-python",
   "name": "python",
   "nbconvert_exporter": "python",
   "pygments_lexer": "ipython3",
   "version": "3.11.6"
  }
 },
 "nbformat": 4,
 "nbformat_minor": 2
}
